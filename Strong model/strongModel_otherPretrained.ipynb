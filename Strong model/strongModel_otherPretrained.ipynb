{
 "cells": [
  {
   "cell_type": "code",
   "execution_count": 5,
   "id": "9734e336-869f-4b0a-87e3-c450624e6994",
   "metadata": {},
   "outputs": [
    {
     "data": {
      "application/vnd.jupyter.widget-view+json": {
       "model_id": "62f104e44dce40a9bfe4d963e931dcbb",
       "version_major": 2,
       "version_minor": 0
      },
      "text/plain": [
       "tokenizer_config.json:   0%|          | 0.00/152 [00:00<?, ?B/s]"
      ]
     },
     "metadata": {},
     "output_type": "display_data"
    },
    {
     "data": {
      "application/vnd.jupyter.widget-view+json": {
       "model_id": "3e54e2a5f18941db9eb6614de52b99db",
       "version_major": 2,
       "version_minor": 0
      },
      "text/plain": [
       "vocab.txt:   0%|          | 0.00/213k [00:00<?, ?B/s]"
      ]
     },
     "metadata": {},
     "output_type": "display_data"
    },
    {
     "data": {
      "application/vnd.jupyter.widget-view+json": {
       "model_id": "b7417b77f89e4c659903ba2fdf3c91d0",
       "version_major": 2,
       "version_minor": 0
      },
      "text/plain": [
       "special_tokens_map.json:   0%|          | 0.00/112 [00:00<?, ?B/s]"
      ]
     },
     "metadata": {},
     "output_type": "display_data"
    },
    {
     "data": {
      "application/vnd.jupyter.widget-view+json": {
       "model_id": "4fe8760f4aaf464c89cb1ebbca3f4eae",
       "version_major": 2,
       "version_minor": 0
      },
      "text/plain": [
       "config.json:   0%|          | 0.00/508 [00:00<?, ?B/s]"
      ]
     },
     "metadata": {},
     "output_type": "display_data"
    },
    {
     "data": {
      "application/vnd.jupyter.widget-view+json": {
       "model_id": "4316b6f734994789b319041ba548db9c",
       "version_major": 2,
       "version_minor": 0
      },
      "text/plain": [
       "model.safetensors:   0%|          | 0.00/433M [00:00<?, ?B/s]"
      ]
     },
     "metadata": {},
     "output_type": "display_data"
    },
    {
     "name": "stderr",
     "output_type": "stream",
     "text": [
      "Some weights of the model checkpoint at deepset/bert-base-cased-squad2 were not used when initializing BertForQuestionAnswering: ['bert.pooler.dense.bias', 'bert.pooler.dense.weight']\n",
      "- This IS expected if you are initializing BertForQuestionAnswering from the checkpoint of a model trained on another task or with another architecture (e.g. initializing a BertForSequenceClassification model from a BertForPreTraining model).\n",
      "- This IS NOT expected if you are initializing BertForQuestionAnswering from the checkpoint of a model that you expect to be exactly identical (initializing a BertForSequenceClassification model from a BertForSequenceClassification model).\n",
      "Training: 100%|██████████| 2320/2320 [05:05<00:00,  7.60it/s]\n"
     ]
    },
    {
     "name": "stdout",
     "output_type": "stream",
     "text": [
      "Epoch 1, Train Accuracy: 0.6144, Train Loss: 1.1010\n"
     ]
    },
    {
     "name": "stderr",
     "output_type": "stream",
     "text": [
      "Evaluating: 100%|██████████| 15875/15875 [02:45<00:00, 95.84it/s]\n"
     ]
    },
    {
     "name": "stdout",
     "output_type": "stream",
     "text": [
      "Epoch 1, F1 Score: 0.6639, WER Score: 1.0036\n"
     ]
    },
    {
     "name": "stderr",
     "output_type": "stream",
     "text": [
      "Training: 100%|██████████| 2320/2320 [05:06<00:00,  7.57it/s]\n"
     ]
    },
    {
     "name": "stdout",
     "output_type": "stream",
     "text": [
      "Epoch 2, Train Accuracy: 0.7515, Train Loss: 0.5774\n"
     ]
    },
    {
     "name": "stderr",
     "output_type": "stream",
     "text": [
      "Evaluating: 100%|██████████| 15875/15875 [02:45<00:00, 95.94it/s]\n"
     ]
    },
    {
     "name": "stdout",
     "output_type": "stream",
     "text": [
      "Epoch 2, F1 Score: 0.6711, WER Score: 1.0464\n"
     ]
    },
    {
     "name": "stderr",
     "output_type": "stream",
     "text": [
      "Training: 100%|██████████| 2320/2320 [05:06<00:00,  7.58it/s]\n"
     ]
    },
    {
     "name": "stdout",
     "output_type": "stream",
     "text": [
      "Epoch 3, Train Accuracy: 0.8269, Train Loss: 0.3472\n"
     ]
    },
    {
     "name": "stderr",
     "output_type": "stream",
     "text": [
      "Evaluating: 100%|██████████| 15875/15875 [02:45<00:00, 95.97it/s]\n"
     ]
    },
    {
     "name": "stdout",
     "output_type": "stream",
     "text": [
      "Epoch 3, F1 Score: 0.6547, WER Score: 1.1198\n"
     ]
    },
    {
     "name": "stderr",
     "output_type": "stream",
     "text": [
      "Training: 100%|██████████| 2320/2320 [05:06<00:00,  7.57it/s]\n"
     ]
    },
    {
     "name": "stdout",
     "output_type": "stream",
     "text": [
      "Epoch 4, Train Accuracy: 0.8766, Train Loss: 0.2235\n"
     ]
    },
    {
     "name": "stderr",
     "output_type": "stream",
     "text": [
      "Evaluating: 100%|██████████| 15875/15875 [02:45<00:00, 95.97it/s]\n"
     ]
    },
    {
     "name": "stdout",
     "output_type": "stream",
     "text": [
      "Epoch 4, F1 Score: 0.6526, WER Score: 1.2532\n"
     ]
    },
    {
     "name": "stderr",
     "output_type": "stream",
     "text": [
      "Training: 100%|██████████| 2320/2320 [05:06<00:00,  7.57it/s]\n"
     ]
    },
    {
     "name": "stdout",
     "output_type": "stream",
     "text": [
      "Epoch 5, Train Accuracy: 0.9109, Train Loss: 0.1512\n"
     ]
    },
    {
     "name": "stderr",
     "output_type": "stream",
     "text": [
      "Evaluating: 100%|██████████| 15875/15875 [02:45<00:00, 95.93it/s]\n"
     ]
    },
    {
     "name": "stdout",
     "output_type": "stream",
     "text": [
      "Epoch 5, F1 Score: 0.6545, WER Score: 1.1764\n"
     ]
    },
    {
     "name": "stderr",
     "output_type": "stream",
     "text": [
      "Training: 100%|██████████| 2320/2320 [05:06<00:00,  7.57it/s]\n"
     ]
    },
    {
     "name": "stdout",
     "output_type": "stream",
     "text": [
      "Epoch 6, Train Accuracy: 0.9326, Train Loss: 0.1086\n"
     ]
    },
    {
     "name": "stderr",
     "output_type": "stream",
     "text": [
      "Evaluating: 100%|██████████| 15875/15875 [02:45<00:00, 95.93it/s]\n"
     ]
    },
    {
     "name": "stdout",
     "output_type": "stream",
     "text": [
      "Epoch 6, F1 Score: 0.6624, WER Score: 1.0429\n",
      "F1 Score List: [0.6639344173059223, 0.6710815726406516, 0.6546622099483084, 0.6525606628547607, 0.6544791752028535, 0.6624302267988337]\n",
      "Word Error Rate List: [1.0036036705427795, 1.0463833265222722, 1.1197941821153918, 1.2532042946836572, 1.1764126760040123, 1.0429096853289743]\n"
     ]
    },
    {
     "data": {
      "image/png": "[encoded data removed]",
      "text/plain": [
       "<Figure size 864x576 with 4 Axes>"
      ]
     },
     "metadata": {
      "needs_background": "light"
     },
     "output_type": "display_data"
    }
   ],
   "source": [
    "import json\n",
    "import torch\n",
    "import torch.nn as nn\n",
    "from tqdm import tqdm\n",
    "from transformers import BertForQuestionAnswering, BertTokenizerFast, AdamW\n",
    "from torch.utils.data import Dataset, DataLoader\n",
    "from evaluate import load\n",
    "from collections import Counter\n",
    "import string\n",
    "import re\n",
    "import matplotlib.pyplot as plt\n",
    "import os\n",
    "from torch.optim.lr_scheduler import ExponentialLR\n",
    "\n",
    "\n",
    "device = torch.device('cuda') if torch.cuda.is_available() else torch.device('cpu')\n",
    "\n",
    "train_data_path = 'spoken_train-v1.1.json'\n",
    "test_data_path = 'spoken_test-v1.1.json'\n",
    "MAX_LENGTH = 512\n",
    "MODEL_PATH = \"deepset/bert-base-cased-squad2\"\n",
    "tokenizer = BertTokenizerFast.from_pretrained(MODEL_PATH)\n",
    "epochs = 6 \n",
    "doc_stride = 128\n",
    "\n",
    "\n",
    "def load_and_preprocess_data(path):\n",
    "    with open(path, 'rb') as f:\n",
    "        raw_data = json.load(f)\n",
    "    contexts, questions, answers = [], [], []\n",
    "    for group in raw_data['data']:\n",
    "        for paragraph in group['paragraphs']:\n",
    "            context = paragraph['context'].lower()\n",
    "            for qa in paragraph['qas']:\n",
    "                question = qa['question'].lower()\n",
    "                for answer in qa['answers']:\n",
    "                    contexts.append(context)\n",
    "                    questions.append(question)\n",
    "                    answers.append({'text': answer['text'].lower(), 'answer_start': answer['answer_start'], 'answer_end': answer['answer_start'] + len(answer['text'])})\n",
    "    return contexts, questions, answers\n",
    "\n",
    "train_contexts, train_questions, train_answers = load_and_preprocess_data(train_data_path)\n",
    "valid_contexts, valid_questions, valid_answers = load_and_preprocess_data(test_data_path)\n",
    "\n",
    "train_contexts_trunc=[]\n",
    "\n",
    "for i in range(len(train_contexts)):\n",
    "    if(len(train_contexts[i])>512):\n",
    "        answer_start=train_answers[i]['answer_start']\n",
    "        answer_end=train_answers[i]['answer_start']+len(train_answers[i]['text'])\n",
    "        mid=(answer_start+answer_end)//2\n",
    "        para_start=max(0,min(mid - MAX_LENGTH//2,len(train_contexts[i])-MAX_LENGTH))\n",
    "        para_end = para_start + MAX_LENGTH \n",
    "        train_contexts_trunc.append(train_contexts[i][para_start:para_end])\n",
    "        train_answers[i]['answer_start']=((512/2)-len(train_answers[i])//2)\n",
    "    else:\n",
    "        train_contexts_trunc.append(train_contexts[i])\n",
    "\n",
    "def tokenize_and_align_answers(questions, contexts, answers):\n",
    "    tokenized_inputs = tokenizer(questions, contexts, max_length=MAX_LENGTH, truncation=True, padding=True, return_offsets_mapping=False, stride = doc_stride)\n",
    "    start_positions = []\n",
    "    end_positions = []\n",
    "\n",
    "    for idx, answer in enumerate(answers):\n",
    "        answer_encoding = tokenizer(answer['text'], max_length=MAX_LENGTH, truncation=True, padding=True)\n",
    "        start_position = 0\n",
    "        end_position = 0\n",
    "        for pos in range(len(tokenized_inputs['input_ids'][idx]) - len(answer_encoding['input_ids']) + 1):\n",
    "            match = True\n",
    "            for i in range(1, len(answer_encoding['input_ids']) - 1):\n",
    "                if answer_encoding['input_ids'][i] != tokenized_inputs['input_ids'][idx][pos + i]:\n",
    "                    match = False\n",
    "                    break\n",
    "            if match:\n",
    "                start_position = pos + 1\n",
    "                end_position = pos + i + 1\n",
    "                break\n",
    "        start_positions.append(start_position)\n",
    "        end_positions.append(end_position)\n",
    "\n",
    "    tokenized_inputs.update({'start_positions': start_positions, 'end_positions': end_positions})\n",
    "    return tokenized_inputs\n",
    "\n",
    "train_encodings = tokenize_and_align_answers(train_questions, train_contexts_trunc, train_answers)\n",
    "valid_encodings = tokenize_and_align_answers(valid_questions, valid_contexts, valid_answers)\n",
    "\n",
    "class QuestionAnswerDataset(Dataset):\n",
    "    def __init__(self, encodings):\n",
    "        self.encodings = encodings\n",
    "\n",
    "    def __getitem__(self, idx):\n",
    "        return {key: torch.tensor(val[idx]) for key, val in self.encodings.items()}\n",
    "\n",
    "    def __len__(self):\n",
    "        return len(self.encodings['input_ids'])\n",
    "\n",
    "train_dataset = QuestionAnswerDataset(train_encodings)\n",
    "valid_dataset = QuestionAnswerDataset(valid_encodings)\n",
    "\n",
    "train_loader = DataLoader(train_dataset, batch_size=16, shuffle=True)\n",
    "valid_loader = DataLoader(valid_dataset, batch_size=1)\n",
    "\n",
    "model = BertForQuestionAnswering.from_pretrained(MODEL_PATH)\n",
    "model.to(device)\n",
    "optimizer = AdamW(model.parameters(), lr=2e-5, weight_decay=2e-2)\n",
    "scheduler = ExponentialLR(optimizer, gamma=0.9)\n",
    "\n",
    "def focal_loss_fn(start_logits, end_logits, start_positions, end_positions, gamma):\n",
    "    \n",
    "    softmax = nn.Softmax(dim=1)\n",
    "    start_probabilities = softmax(start_logits)\n",
    "    inv_start_probabilities = 1 - start_probabilities\n",
    "    end_probabilities = softmax(end_logits)\n",
    "    inv_end_probabilities = 1 - end_probabilities\n",
    "    \n",
    "    log_softmax = nn.LogSoftmax(dim=1)\n",
    "    log_start_probabilities = log_softmax(start_logits)\n",
    "    log_end_probabilities = log_softmax(end_logits)\n",
    "    \n",
    "    negative_log_likelihood_loss = nn.NLLLoss()\n",
    "    \n",
    "    focal_loss_start = negative_log_likelihood_loss(torch.pow(inv_start_probabilities, gamma) * log_start_probabilities, start_positions)\n",
    "    focal_loss_end = negative_log_likelihood_loss(torch.pow(inv_end_probabilities, gamma) * log_end_probabilities, end_positions)\n",
    "    \n",
    "    return (focal_loss_start + focal_loss_end) / 2\n",
    "\n",
    "def train(model, dataloader, optimizer):\n",
    "    model.train()\n",
    "    losses = []\n",
    "    accuracies = []\n",
    "    for batch in tqdm(dataloader, desc=\"Training\"):\n",
    "        optimizer.zero_grad()\n",
    "        input_ids = batch['input_ids'].to(device)\n",
    "        attention_mask = batch['attention_mask'].to(device)\n",
    "        start_positions = batch['start_positions'].to(device)\n",
    "        end_positions = batch['end_positions'].to(device)\n",
    "        \n",
    "        outputs = model(input_ids, attention_mask=attention_mask)\n",
    "        start_logits, end_logits = outputs.start_logits, outputs.end_logits\n",
    "        \n",
    "        loss = focal_loss_fn(start_logits, end_logits, start_positions, end_positions, 1)\n",
    "        loss.backward()\n",
    "        optimizer.step()\n",
    "        \n",
    "        losses.append(loss.item())\n",
    "        \n",
    "        start_pred = torch.argmax(start_logits, dim=1)\n",
    "        end_pred = torch.argmax(end_logits, dim=1)\n",
    "        start_accuracy = (start_pred == start_positions).sum() / len(start_pred)\n",
    "        end_accuracy = (end_pred == end_positions).sum() / len(end_pred)\n",
    "        accuracies.append(start_accuracy.item())\n",
    "        accuracies.append(end_accuracy.item())\n",
    "    \n",
    "    scheduler.step()\n",
    "    avg_loss = sum(losses) / len(losses)\n",
    "    avg_accuracy = sum(accuracies) / len(accuracies)\n",
    "    return avg_loss, avg_accuracy\n",
    "\n",
    "def normalize_answer(s):\n",
    "    def remove_articles(text):\n",
    "        return re.sub(r'\\b(a|an|the)\\b', ' ', text)\n",
    "\n",
    "    def white_space_fix(text):\n",
    "        return ' '.join(text.split())\n",
    "\n",
    "    def remove_punc(text):\n",
    "        exclude = set(string.punctuation)\n",
    "        return ''.join(ch for ch in text if ch not in exclude)\n",
    "\n",
    "    def lower(text):\n",
    "        return text.lower()\n",
    "\n",
    "    return white_space_fix(remove_articles(remove_punc(lower(s))))\n",
    "\n",
    "def f1_score_calc(prediction, ground_truth):\n",
    "    prediction_tokens = normalize_answer(prediction).split()\n",
    "    ground_truth_tokens = normalize_answer(ground_truth).split()\n",
    "    common = Counter(prediction_tokens) & Counter(ground_truth_tokens)\n",
    "    num_same = sum(common.values())\n",
    "    if num_same == 0:\n",
    "        return 0\n",
    "    precision = 1.0 * num_same / len(prediction_tokens)\n",
    "    recall = 1.0 * num_same / len(ground_truth_tokens)\n",
    "    f1 = (2 * precision * recall) / (precision + recall)\n",
    "    return f1\n",
    "\n",
    "def evaluate(model, dataloader):\n",
    "    model.eval()\n",
    "    predictions = []\n",
    "    references = []\n",
    "    f1_scores = []\n",
    "    answer_list = []\n",
    "\n",
    "    with torch.no_grad():\n",
    "        for batch in tqdm(dataloader, desc='Evaluating'):\n",
    "            input_ids = batch['input_ids'].to(device)\n",
    "            attention_mask = batch['attention_mask'].to(device)\n",
    "            start_true = batch['start_positions'].to(device)\n",
    "            end_true = batch['end_positions'].to(device)\n",
    "\n",
    "            outputs = model(input_ids, attention_mask=attention_mask)\n",
    "            start_logits = outputs.start_logits\n",
    "            end_logits = outputs.end_logits\n",
    "\n",
    "            start_pred = torch.argmax(start_logits, dim=1)\n",
    "            end_pred = torch.argmax(end_logits, dim=1)\n",
    "\n",
    "            for i in range(input_ids.size(0)):\n",
    "                pred_answer = tokenizer.decode(input_ids[i][start_pred[i]:end_pred[i]+1])\n",
    "                true_answer = tokenizer.decode(input_ids[i][start_true[i]:end_true[i]+1])\n",
    "                answer_list.append([pred_answer, true_answer])\n",
    "                f1_score_value = f1_score_calc(pred_answer, true_answer)\n",
    "                f1_scores.append(f1_score_value)\n",
    "\n",
    "    for ans_pair in answer_list:\n",
    "        if len(ans_pair[0]) == 0:\n",
    "            ans_pair[0] = \"$\"\n",
    "        if len(ans_pair[1]) == 0:\n",
    "            ans_pair[1] = \"$\"\n",
    "        predictions.append(ans_pair[0])\n",
    "        references.append(ans_pair[1])\n",
    "\n",
    "    wer_metric = load(\"wer\")\n",
    "    wer_score = wer_metric.compute(predictions=predictions, references=references)\n",
    "    avg_f1_score = sum(f1_scores) / len(f1_scores) if f1_scores else 0\n",
    "    return avg_f1_score, wer_score\n",
    "\n",
    "f1_scores = []\n",
    "wer_scores = []\n",
    "train_loss_list = []\n",
    "train_accuracy_list = []\n",
    "model_save_path = 'distilbert_qa_strong_model_other_pretrained1'\n",
    "\n",
    "if os.path.exists(model_save_path):\n",
    "    model = BertForQuestionAnswering.from_pretrained(model_save_path)\n",
    "    tokenizer = BertTokenizerFast.from_pretrained(model_save_path)\n",
    "    print(f'Model and tokenizer loaded from {model_save_path}')\n",
    "    f1_score, wer_score = evaluate(model, valid_loader)\n",
    "    print(f'F1 Score: {f1_score:.4f}, WER Score: {wer_score:.4f}')\n",
    "else:\n",
    "    for epoch in range(epochs):\n",
    "        train_loss, train_accuracy = train(model, train_loader, optimizer)\n",
    "        train_loss_list.append(train_loss)\n",
    "        train_accuracy_list.append(train_accuracy)\n",
    "        print(f\"Epoch {epoch + 1}, Train Accuracy: {train_accuracy:.4f}, Train Loss: {train_loss:.4f}\")\n",
    "\n",
    "        f1_score, wer_score = evaluate(model, valid_loader)\n",
    "        f1_scores.append(f1_score)\n",
    "        wer_scores.append(wer_score)\n",
    "\n",
    "        print(f\"Epoch {epoch + 1}, F1 Score: {f1_score:.4f}, WER Score: {wer_score:.4f}\")\n",
    "\n",
    "    model.save_pretrained(model_save_path)\n",
    "    tokenizer.save_pretrained(model_save_path)\n",
    "\n",
    "print('F1 Score List:', f1_scores)\n",
    "print('Word Error Rate List:', wer_scores)\n",
    "\n",
    "epochs_list = list(range(1, epochs + 1))\n",
    "\n",
    "plt.figure(figsize=(12, 8))\n",
    "\n",
    "plt.subplot(2, 2, 1)\n",
    "plt.plot(epochs_list, train_loss_list, label='Train Loss')\n",
    "plt.xlabel('Epochs')\n",
    "plt.ylabel('Loss')\n",
    "plt.title('Training Loss')\n",
    "plt.legend()\n",
    "\n",
    "plt.subplot(2, 2, 2)\n",
    "plt.plot(epochs_list, train_accuracy_list, label='Train Accuracy', color='orange')\n",
    "plt.xlabel('Epochs')\n",
    "plt.ylabel('Accuracy')\n",
    "plt.title('Training Accuracy')\n",
    "plt.legend()\n",
    "\n",
    "plt.subplot(2, 2, 3)\n",
    "plt.plot(epochs_list, f1_scores, label='F1 Score', color='green')\n",
    "plt.xlabel('Epochs')\n",
    "plt.ylabel('F1 Score')\n",
    "plt.title('F1 Score')\n",
    "plt.legend()\n",
    "\n",
    "plt.subplot(2, 2, 4)\n",
    "plt.plot(epochs_list, wer_scores, label='WER Score', color='red')\n",
    "plt.xlabel('Epochs')\n",
    "plt.ylabel('WER Score')\n",
    "plt.title('Word Error Rate Score')\n",
    "plt.legend()\n",
    "\n",
    "plt.tight_layout()\n",
    "plt.show()"
   ]
  },
  {
   "cell_type": "code",
   "execution_count": null,
   "id": "23afa41f-a507-4920-954d-02d539e3b853",
   "metadata": {},
   "outputs": [],
   "source": []
  }
 ],
 "metadata": {
  "kernelspec": {
   "display_name": "Python 3 (ipykernel)",
   "language": "python",
   "name": "python3"
  },
  "language_info": {
   "codemirror_mode": {
    "name": "ipython",
    "version": 3
   },
   "file_extension": ".py",
   "mimetype": "text/x-python",
   "name": "python",
   "nbconvert_exporter": "python",
   "pygments_lexer": "ipython3",
   "version": "3.9.12"
  }
 },
 "nbformat": 4,
 "nbformat_minor": 5
}
